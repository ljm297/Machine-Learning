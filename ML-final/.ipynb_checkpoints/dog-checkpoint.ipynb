{
 "cells": [
  {
   "cell_type": "markdown",
   "metadata": {},
   "source": [
    "# 1. Install Dependencies and Setup"
   ]
  },
  {
   "cell_type": "code",
   "execution_count": 1,
   "metadata": {
    "tags": []
   },
   "outputs": [
    {
     "name": "stdout",
     "output_type": "stream",
     "text": [
      "Requirement already satisfied: tensorflow in /Users/jiamingli/miniconda3/lib/python3.9/site-packages (2.11.0)\n",
      "Collecting tensorflow-gpu\n",
      "  Using cached tensorflow-gpu-2.12.0.tar.gz (2.6 kB)\n",
      "  Preparing metadata (setup.py) ... \u001b[?25lerror\n",
      "  \u001b[1;31merror\u001b[0m: \u001b[1msubprocess-exited-with-error\u001b[0m\n",
      "  \n",
      "  \u001b[31m×\u001b[0m \u001b[32mpython setup.py egg_info\u001b[0m did not run successfully.\n",
      "  \u001b[31m│\u001b[0m exit code: \u001b[1;36m1\u001b[0m\n",
      "  \u001b[31m╰─>\u001b[0m \u001b[31m[39 lines of output]\u001b[0m\n",
      "  \u001b[31m   \u001b[0m Traceback (most recent call last):\n",
      "  \u001b[31m   \u001b[0m   File \"/Users/jiamingli/miniconda3/lib/python3.9/site-packages/setuptools/_vendor/packaging/requirements.py\", line 35, in __init__\n",
      "  \u001b[31m   \u001b[0m     parsed = _parse_requirement(requirement_string)\n",
      "  \u001b[31m   \u001b[0m   File \"/Users/jiamingli/miniconda3/lib/python3.9/site-packages/setuptools/_vendor/packaging/_parser.py\", line 64, in parse_requirement\n",
      "  \u001b[31m   \u001b[0m     return _parse_requirement(Tokenizer(source, rules=DEFAULT_RULES))\n",
      "  \u001b[31m   \u001b[0m   File \"/Users/jiamingli/miniconda3/lib/python3.9/site-packages/setuptools/_vendor/packaging/_parser.py\", line 82, in _parse_requirement\n",
      "  \u001b[31m   \u001b[0m     url, specifier, marker = _parse_requirement_details(tokenizer)\n",
      "  \u001b[31m   \u001b[0m   File \"/Users/jiamingli/miniconda3/lib/python3.9/site-packages/setuptools/_vendor/packaging/_parser.py\", line 126, in _parse_requirement_details\n",
      "  \u001b[31m   \u001b[0m     marker = _parse_requirement_marker(\n",
      "  \u001b[31m   \u001b[0m   File \"/Users/jiamingli/miniconda3/lib/python3.9/site-packages/setuptools/_vendor/packaging/_parser.py\", line 147, in _parse_requirement_marker\n",
      "  \u001b[31m   \u001b[0m     tokenizer.raise_syntax_error(\n",
      "  \u001b[31m   \u001b[0m   File \"/Users/jiamingli/miniconda3/lib/python3.9/site-packages/setuptools/_vendor/packaging/_tokenizer.py\", line 165, in raise_syntax_error\n",
      "  \u001b[31m   \u001b[0m     raise ParserSyntaxError(\n",
      "  \u001b[31m   \u001b[0m setuptools.extern.packaging._tokenizer.ParserSyntaxError: Expected end or semicolon (after name and no valid version specifier)\n",
      "  \u001b[31m   \u001b[0m     python_version>\"3.7\"\n",
      "  \u001b[31m   \u001b[0m                   ^\n",
      "  \u001b[31m   \u001b[0m \n",
      "  \u001b[31m   \u001b[0m The above exception was the direct cause of the following exception:\n",
      "  \u001b[31m   \u001b[0m \n",
      "  \u001b[31m   \u001b[0m Traceback (most recent call last):\n",
      "  \u001b[31m   \u001b[0m   File \"<string>\", line 2, in <module>\n",
      "  \u001b[31m   \u001b[0m   File \"<pip-setuptools-caller>\", line 34, in <module>\n",
      "  \u001b[31m   \u001b[0m   File \"/private/var/folders/_x/d7r55wkx5sb4v3x54d9rht1c0000gn/T/pip-install-qkbb9ec1/tensorflow-gpu_82ac634a600f471bbc3cb932c205c5b0/setup.py\", line 40, in <module>\n",
      "  \u001b[31m   \u001b[0m     setuptools.setup()\n",
      "  \u001b[31m   \u001b[0m   File \"/Users/jiamingli/miniconda3/lib/python3.9/site-packages/setuptools/__init__.py\", line 106, in setup\n",
      "  \u001b[31m   \u001b[0m     _install_setup_requires(attrs)\n",
      "  \u001b[31m   \u001b[0m   File \"/Users/jiamingli/miniconda3/lib/python3.9/site-packages/setuptools/__init__.py\", line 77, in _install_setup_requires\n",
      "  \u001b[31m   \u001b[0m     dist.parse_config_files(ignore_option_errors=True)\n",
      "  \u001b[31m   \u001b[0m   File \"/Users/jiamingli/miniconda3/lib/python3.9/site-packages/setuptools/dist.py\", line 900, in parse_config_files\n",
      "  \u001b[31m   \u001b[0m     self._finalize_requires()\n",
      "  \u001b[31m   \u001b[0m   File \"/Users/jiamingli/miniconda3/lib/python3.9/site-packages/setuptools/dist.py\", line 597, in _finalize_requires\n",
      "  \u001b[31m   \u001b[0m     self._move_install_requirements_markers()\n",
      "  \u001b[31m   \u001b[0m   File \"/Users/jiamingli/miniconda3/lib/python3.9/site-packages/setuptools/dist.py\", line 637, in _move_install_requirements_markers\n",
      "  \u001b[31m   \u001b[0m     inst_reqs = list(_reqs.parse(spec_inst_reqs))\n",
      "  \u001b[31m   \u001b[0m   File \"/Users/jiamingli/miniconda3/lib/python3.9/site-packages/setuptools/_vendor/packaging/requirements.py\", line 37, in __init__\n",
      "  \u001b[31m   \u001b[0m     raise InvalidRequirement(str(e)) from e\n",
      "  \u001b[31m   \u001b[0m setuptools.extern.packaging.requirements.InvalidRequirement: Expected end or semicolon (after name and no valid version specifier)\n",
      "  \u001b[31m   \u001b[0m     python_version>\"3.7\"\n",
      "  \u001b[31m   \u001b[0m                   ^\n",
      "  \u001b[31m   \u001b[0m \u001b[31m[end of output]\u001b[0m\n",
      "  \n",
      "  \u001b[1;35mnote\u001b[0m: This error originates from a subprocess, and is likely not a problem with pip.\n",
      "\u001b[1;31merror\u001b[0m: \u001b[1mmetadata-generation-failed\u001b[0m\n",
      "\n",
      "\u001b[31m×\u001b[0m Encountered error while generating package metadata.\n",
      "\u001b[31m╰─>\u001b[0m See above for output.\n",
      "\n",
      "\u001b[1;35mnote\u001b[0m: This is an issue with the package mentioned above, not pip.\n",
      "\u001b[1;36mhint\u001b[0m: See above for details.\n",
      "\u001b[?25h"
     ]
    }
   ],
   "source": [
    "!pip install tensorflow tensorflow-gpu opencv-python matplotlib"
   ]
  },
  {
   "cell_type": "code",
   "execution_count": 2,
   "metadata": {
    "tags": []
   },
   "outputs": [
    {
     "name": "stdout",
     "output_type": "stream",
     "text": [
      "Package                      Version     Editable project location\r\n",
      "---------------------------- ----------- ------------------------------------\r\n",
      "absl-py                      1.3.0\r\n",
      "alembic                      1.12.0\r\n",
      "anyio                        3.5.0\r\n",
      "appnope                      0.1.2\r\n",
      "archspec                     0.2.1\r\n",
      "argon2-cffi                  21.3.0\r\n",
      "argon2-cffi-bindings         21.2.0\r\n",
      "astunparse                   1.6.3\r\n",
      "async-generator              1.10\r\n",
      "async-lru                    2.0.4\r\n",
      "attrs                        23.1.0\r\n",
      "autograd                     1.3\r\n",
      "Babel                        2.10.3\r\n",
      "backcall                     0.2.0\r\n",
      "beautifulsoup4               4.11.1\r\n",
      "bleach                       4.1.0\r\n",
      "boltons                      23.0.0\r\n",
      "Box2D                        2.3.10      /Users/jiamingli/pybox2d_dev/library\r\n",
      "box2d-py                     2.3.8\r\n",
      "Brotli                       1.0.9\r\n",
      "cachetools                   5.2.0\r\n",
      "certifi                      2023.11.17\r\n",
      "certipy                      0.1.3\r\n",
      "cffi                         1.16.0\r\n",
      "charset-normalizer           2.0.4\r\n",
      "click                        8.1.3\r\n",
      "cloudpickle                  1.6.0\r\n",
      "comm                         0.1.2\r\n",
      "conda                        23.11.0\r\n",
      "conda-libmamba-solver        23.11.1\r\n",
      "conda-package-handling       2.2.0\r\n",
      "conda_package_streaming      0.9.0\r\n",
      "cryptography                 41.0.7\r\n",
      "cycler                       0.11.0\r\n",
      "debugpy                      1.6.7\r\n",
      "decorator                    5.1.1\r\n",
      "defusedxml                   0.7.1\r\n",
      "distro                       1.8.0\r\n",
      "fastjsonschema               2.16.2\r\n",
      "flatbuffers                  22.12.6\r\n",
      "fonttools                    4.25.0\r\n",
      "future                       0.18.3\r\n",
      "gast                         0.4.0\r\n",
      "google-auth                  2.15.0\r\n",
      "google-auth-oauthlib         0.4.6\r\n",
      "google-pasta                 0.2.0\r\n",
      "graphviz                     0.20.1\r\n",
      "greenlet                     3.0.0\r\n",
      "grpcio                       1.51.1\r\n",
      "gym                          0.19.0\r\n",
      "gym-notices                  0.0.6\r\n",
      "h5py                         3.7.0\r\n",
      "idna                         3.4\r\n",
      "ikpy                         3.3\r\n",
      "imbalanced-learn             0.10.0\r\n",
      "imblearn                     0.0\r\n",
      "importlib-metadata           4.11.3\r\n",
      "importlib-resources          6.1.1\r\n",
      "imutils                      0.5.4\r\n",
      "ipykernel                    6.25.0\r\n",
      "ipython                      7.31.1\r\n",
      "ipywidgets                   8.0.4\r\n",
      "jedi                         0.18.1\r\n",
      "Jinja2                       3.1.2\r\n",
      "joblib                       1.2.0\r\n",
      "json5                        0.9.10\r\n",
      "jsonpatch                    1.32\r\n",
      "jsonpointer                  2.1\r\n",
      "jsonschema                   4.19.2\r\n",
      "jsonschema-specifications    2023.7.1\r\n",
      "jupyter                      1.0.0\r\n",
      "jupyter_client               8.6.0\r\n",
      "jupyter-console              6.6.3\r\n",
      "jupyter_core                 5.5.0\r\n",
      "jupyter-events               0.8.0\r\n",
      "jupyter-lsp                  2.2.0\r\n",
      "jupyter-server               1.18.1\r\n",
      "jupyter_server_terminals     0.4.4\r\n",
      "jupyter-telemetry            0.1.0\r\n",
      "jupyterhub                   4.0.2\r\n",
      "jupyterlab                   4.0.9\r\n",
      "jupyterlab-pygments          0.1.2\r\n",
      "jupyterlab_server            2.15.1\r\n",
      "jupyterlab-widgets           3.0.9\r\n",
      "kaggle                       1.5.12\r\n",
      "keras                        2.11.0\r\n",
      "kiwisolver                   1.4.4\r\n",
      "libclang                     14.0.6\r\n",
      "libmambapy                   1.5.3\r\n",
      "lxml                         4.9.1\r\n",
      "Mako                         1.2.4\r\n",
      "Markdown                     3.4.1\r\n",
      "MarkupSafe                   2.1.1\r\n",
      "matplotlib                   3.5.1\r\n",
      "matplotlib-inline            0.1.6\r\n",
      "menuinst                     2.0.0\r\n",
      "mistune                      2.0.4\r\n",
      "mkl-fft                      1.3.8\r\n",
      "mkl-random                   1.2.2\r\n",
      "mkl-service                  2.4.0\r\n",
      "mpmath                       1.2.1\r\n",
      "munkres                      1.1.4\r\n",
      "nbclassic                    0.4.3\r\n",
      "nbclient                     0.8.0\r\n",
      "nbconvert                    7.9.2\r\n",
      "nbformat                     5.5.0\r\n",
      "nest-asyncio                 1.5.6\r\n",
      "nltk                         3.7\r\n",
      "notebook                     7.0.6\r\n",
      "notebook-shim                0.1.0\r\n",
      "numpy                        1.22.2\r\n",
      "oauthlib                     3.2.2\r\n",
      "opencv-python                4.5.5.64\r\n",
      "opt-einsum                   3.3.0\r\n",
      "overrides                    7.4.0\r\n",
      "packaging                    23.1\r\n",
      "pamela                       1.1.0\r\n",
      "pandas                       1.5.2\r\n",
      "pandocfilters                1.5.0\r\n",
      "parso                        0.8.3\r\n",
      "pexpect                      4.8.0\r\n",
      "pickleshare                  0.7.5\r\n",
      "Pillow                       10.0.1\r\n",
      "pip                          23.3.1\r\n",
      "platformdirs                 3.10.0\r\n",
      "plotly                       5.11.0\r\n",
      "pluggy                       1.0.0\r\n",
      "ply                          3.11\r\n",
      "prometheus-client            0.14.1\r\n",
      "prompt-toolkit               3.0.36\r\n",
      "protobuf                     3.19.6\r\n",
      "psutil                       5.9.0\r\n",
      "ptyprocess                   0.7.0\r\n",
      "pyasn1                       0.4.8\r\n",
      "pyasn1-modules               0.2.8\r\n",
      "pycosat                      0.6.6\r\n",
      "pycparser                    2.21\r\n",
      "pygame                       2.1.0\r\n",
      "pyglet                       1.5.23\r\n",
      "Pygments                     2.15.1\r\n",
      "pyOpenSSL                    23.2.0\r\n",
      "pyparsing                    3.0.9\r\n",
      "PyQt5                        5.15.10\r\n",
      "PyQt5-sip                    12.13.0\r\n",
      "PySocks                      1.7.1\r\n",
      "python-dateutil              2.8.2\r\n",
      "python-json-logger           2.0.7\r\n",
      "python-slugify               7.0.0\r\n",
      "python-version               0.0.2\r\n",
      "pytz                         2022.2.1\r\n",
      "PyYAML                       6.0.1\r\n",
      "pyzmq                        25.1.0\r\n",
      "qtconsole                    5.5.0\r\n",
      "QtPy                         2.4.1\r\n",
      "referencing                  0.30.2\r\n",
      "regex                        2022.10.31\r\n",
      "requests                     2.31.0\r\n",
      "requests-oauthlib            1.3.1\r\n",
      "rfc3339-validator            0.1.4\r\n",
      "rfc3986-validator            0.1.1\r\n",
      "rpds-py                      0.10.6\r\n",
      "rsa                          4.9\r\n",
      "ruamel.yaml                  0.17.21\r\n",
      "ruamel.yaml.clib             0.2.7\r\n",
      "scikit-learn                 1.3.0\r\n",
      "scikit-tree                  0.4.1\r\n",
      "scipy                        1.11.4\r\n",
      "seaborn                      0.12.1\r\n",
      "Send2Trash                   1.8.2\r\n",
      "setuptools                   68.0.0\r\n",
      "sip                          6.7.12\r\n",
      "six                          1.16.0\r\n",
      "sklearn                      0.0.post1\r\n",
      "sniffio                      1.2.0\r\n",
      "soupsieve                    2.3.2.post1\r\n",
      "SQLAlchemy                   2.0.22\r\n",
      "sympy                        1.9\r\n",
      "tabulate                     0.8.9\r\n",
      "tenacity                     8.1.0\r\n",
      "tensorboard                  2.11.0\r\n",
      "tensorboard-data-server      0.6.1\r\n",
      "tensorboard-plugin-wit       1.8.1\r\n",
      "tensorflow                   2.11.0\r\n",
      "tensorflow-estimator         2.11.0\r\n",
      "tensorflow-io-gcs-filesystem 0.28.0\r\n",
      "termcolor                    2.1.1\r\n",
      "terminado                    0.17.1\r\n",
      "text-unidecode               1.3\r\n",
      "threadpoolctl                2.2.0\r\n",
      "tinycss2                     1.1.1\r\n",
      "tomli                        2.0.1\r\n",
      "tornado                      6.3.3\r\n",
      "tqdm                         4.65.0\r\n",
      "traitlets                    5.7.1\r\n",
      "typing_extensions            4.7.1\r\n",
      "urllib3                      1.26.18\r\n",
      "wcwidth                      0.2.5\r\n",
      "webencodings                 0.5.1\r\n",
      "websocket-client             0.58.0\r\n",
      "Werkzeug                     2.2.2\r\n",
      "wget                         3.2\r\n",
      "wheel                        0.41.2\r\n",
      "widgetsnbextension           4.0.5\r\n",
      "wordcloud                    1.8.2.2\r\n",
      "wrapt                        1.14.1\r\n",
      "xlrd                         2.0.1\r\n",
      "zipp                         3.11.0\r\n",
      "zstandard                    0.19.0\r\n"
     ]
    }
   ],
   "source": [
    "!pip list"
   ]
  },
  {
   "cell_type": "code",
   "execution_count": null,
   "metadata": {},
   "outputs": [],
   "source": [
    "import tensorflow as tf\n",
    "import os"
   ]
  },
  {
   "cell_type": "code",
   "execution_count": null,
   "metadata": {},
   "outputs": [],
   "source": [
    "# Avoid OOM errors by setting GPU Memory Consumption Growth\n",
    "gpus = tf.config.experimental.list_physical_devices('GPU')\n",
    "for gpu in gpus: \n",
    "    tf.config.experimental.set_memory_growth(gpu, True)"
   ]
  },
  {
   "cell_type": "code",
   "execution_count": null,
   "metadata": {
    "tags": []
   },
   "outputs": [],
   "source": [
    "tf.config.list_physical_devices('GPU')"
   ]
  },
  {
   "cell_type": "markdown",
   "metadata": {},
   "source": [
    "# 2. Remove dodgy images"
   ]
  },
  {
   "cell_type": "code",
   "execution_count": null,
   "metadata": {},
   "outputs": [],
   "source": [
    "import cv2\n",
    "import imghdr"
   ]
  },
  {
   "cell_type": "code",
   "execution_count": null,
   "metadata": {},
   "outputs": [],
   "source": [
    "data_dir = 'data' "
   ]
  },
  {
   "cell_type": "code",
   "execution_count": null,
   "metadata": {},
   "outputs": [],
   "source": [
    "image_exts = ['jpeg','jpg', 'bmp', 'png']"
   ]
  },
  {
   "cell_type": "code",
   "execution_count": null,
   "metadata": {},
   "outputs": [],
   "source": [
    "if '.DS_Store' in os.listdir(data_dir):\n",
    "    path = os.path.join(data_dir, '.DS_Store')\n",
    "    os.remove(path)"
   ]
  },
  {
   "cell_type": "code",
   "execution_count": null,
   "metadata": {
    "tags": []
   },
   "outputs": [],
   "source": [
    "classes = []\n",
    "for image_class in os.listdir(data_dir):\n",
    "    classes.append(image_class)\n",
    "    for image in os.listdir(os.path.join(data_dir, image_class)):\n",
    "        image_path = os.path.join(data_dir, image_class, image)\n",
    "        try: \n",
    "            img = cv2.imread(image_path)\n",
    "            tip = imghdr.what(image_path)\n",
    "            if tip not in image_exts: \n",
    "                print('Image not in ext list {}'.format(image_path))\n",
    "                os.remove(image_path)\n",
    "        except Exception as e: \n",
    "            print('Issue with image {}'.format(image_path))\n",
    "            os.remove(image_path)\n",
    "print(\"Classes: \",classes)"
   ]
  },
  {
   "cell_type": "markdown",
   "metadata": {},
   "source": [
    "# 3. Load Data"
   ]
  },
  {
   "cell_type": "code",
   "execution_count": null,
   "metadata": {},
   "outputs": [],
   "source": [
    "import numpy as np\n",
    "from matplotlib import pyplot as plt"
   ]
  },
  {
   "cell_type": "code",
   "execution_count": null,
   "metadata": {},
   "outputs": [],
   "source": [
    "data = tf.keras.utils.image_dataset_from_directory('data',class_names=classes)"
   ]
  },
  {
   "cell_type": "code",
   "execution_count": null,
   "metadata": {},
   "outputs": [],
   "source": [
    "data_iterator = data.as_numpy_iterator()\n",
    "print(data.class_names)"
   ]
  },
  {
   "cell_type": "code",
   "execution_count": null,
   "metadata": {
    "tags": []
   },
   "outputs": [],
   "source": [
    "batch = data_iterator.next()"
   ]
  },
  {
   "cell_type": "code",
   "execution_count": null,
   "metadata": {
    "tags": []
   },
   "outputs": [],
   "source": [
    "fig, ax = plt.subplots(ncols=6, figsize=(20,20))\n",
    "for idx, img in enumerate(batch[0][:6]):\n",
    "    ax[idx].imshow(img.astype(int))\n",
    "    title = str(classes[batch[1][idx]]) + \" (\" + str(batch[1][idx]) + \")\"\n",
    "    ax[idx].title.set_text(title)"
   ]
  },
  {
   "cell_type": "markdown",
   "metadata": {},
   "source": [
    "# 4. Scale Data"
   ]
  },
  {
   "cell_type": "code",
   "execution_count": null,
   "metadata": {},
   "outputs": [],
   "source": [
    "data = data.map(lambda x,y: (x/255, y))"
   ]
  },
  {
   "cell_type": "code",
   "execution_count": null,
   "metadata": {
    "scrolled": true,
    "tags": []
   },
   "outputs": [],
   "source": [
    "data.as_numpy_iterator().next()"
   ]
  },
  {
   "cell_type": "markdown",
   "metadata": {},
   "source": [
    "# 5. Split Data"
   ]
  },
  {
   "cell_type": "code",
   "execution_count": null,
   "metadata": {},
   "outputs": [],
   "source": [
    "train_size = int(len(data)*.7)\n",
    "val_size = int(len(data)*.2)\n",
    "test_size = int(len(data)*.1)"
   ]
  },
  {
   "cell_type": "code",
   "execution_count": null,
   "metadata": {},
   "outputs": [],
   "source": [
    "train = data.take(train_size)\n",
    "val = data.skip(train_size).take(val_size)\n",
    "test = data.skip(train_size+val_size).take(test_size)"
   ]
  },
  {
   "cell_type": "markdown",
   "metadata": {},
   "source": [
    "# 6. Build Deep Learning Model"
   ]
  },
  {
   "cell_type": "code",
   "execution_count": null,
   "metadata": {},
   "outputs": [],
   "source": [
    "train"
   ]
  },
  {
   "cell_type": "code",
   "execution_count": null,
   "metadata": {},
   "outputs": [],
   "source": [
    "from tensorflow.keras.models import Sequential\n",
    "from tensorflow.keras.layers import Conv2D, MaxPooling2D, Dense, Flatten, Dropout"
   ]
  },
  {
   "cell_type": "code",
   "execution_count": null,
   "metadata": {},
   "outputs": [],
   "source": [
    "model = Sequential()"
   ]
  },
  {
   "cell_type": "code",
   "execution_count": null,
   "metadata": {},
   "outputs": [],
   "source": [
    "model.add(Conv2D(16, (3,3), 1, activation='relu', input_shape=(256,256,3)))\n",
    "model.add(MaxPooling2D())\n",
    "model.add(Dropout(0.3))\n",
    "model.add(Conv2D(32, (3,3), 1, activation='relu'))\n",
    "model.add(MaxPooling2D())\n",
    "model.add(Dropout(0.3))\n",
    "model.add(Conv2D(16, (3,3), 1, activation='relu'))\n",
    "model.add(MaxPooling2D())\n",
    "model.add(Dropout(0.4))\n",
    "model.add(Flatten())\n",
    "model.add(Dense(256, activation='relu'))\n",
    "model.add(Dropout(0.2))\n",
    "model.add(Dense(1, activation='sigmoid'))"
   ]
  },
  {
   "cell_type": "code",
   "execution_count": null,
   "metadata": {},
   "outputs": [],
   "source": [
    "model.compile(optimizer='adam', loss=tf.losses.BinaryCrossentropy(), metrics=['accuracy'])"
   ]
  },
  {
   "cell_type": "code",
   "execution_count": null,
   "metadata": {
    "tags": []
   },
   "outputs": [],
   "source": [
    "model.summary()"
   ]
  },
  {
   "cell_type": "markdown",
   "metadata": {},
   "source": [
    "# 7. Train"
   ]
  },
  {
   "cell_type": "code",
   "execution_count": null,
   "metadata": {},
   "outputs": [],
   "source": [
    "logdir='logs'"
   ]
  },
  {
   "cell_type": "code",
   "execution_count": null,
   "metadata": {},
   "outputs": [],
   "source": [
    "tensorboard_callback = tf.keras.callbacks.TensorBoard(log_dir=logdir)"
   ]
  },
  {
   "cell_type": "code",
   "execution_count": null,
   "metadata": {
    "scrolled": true,
    "tags": []
   },
   "outputs": [],
   "source": [
    "hist = model.fit(train, epochs=30, validation_data=val, callbacks=[tensorboard_callback])"
   ]
  },
  {
   "cell_type": "markdown",
   "metadata": {},
   "source": [
    "# 8. Plot Performance"
   ]
  },
  {
   "cell_type": "code",
   "execution_count": null,
   "metadata": {},
   "outputs": [],
   "source": [
    "fig = plt.figure()\n",
    "plt.plot(hist.history['loss'], color='teal', label='loss')\n",
    "plt.plot(hist.history['val_loss'], color='orange', label='val_loss')\n",
    "fig.suptitle('Loss', fontsize=20)\n",
    "plt.legend(loc=\"upper left\")\n",
    "plt.show()"
   ]
  },
  {
   "cell_type": "code",
   "execution_count": null,
   "metadata": {},
   "outputs": [],
   "source": [
    "fig = plt.figure()\n",
    "plt.plot(hist.history['accuracy'], color='teal', label='accuracy')\n",
    "plt.plot(hist.history['val_accuracy'], color='orange', label='val_accuracy')\n",
    "fig.suptitle('Accuracy', fontsize=20)\n",
    "plt.legend(loc=\"upper left\")\n",
    "plt.show()"
   ]
  },
  {
   "cell_type": "markdown",
   "metadata": {},
   "source": [
    "# 9. Evaluate"
   ]
  },
  {
   "cell_type": "code",
   "execution_count": null,
   "metadata": {},
   "outputs": [],
   "source": [
    "from tensorflow.keras.metrics import Precision, Recall, BinaryAccuracy"
   ]
  },
  {
   "cell_type": "code",
   "execution_count": null,
   "metadata": {},
   "outputs": [],
   "source": [
    "pre = Precision()\n",
    "re = Recall()\n",
    "acc = BinaryAccuracy()"
   ]
  },
  {
   "cell_type": "code",
   "execution_count": null,
   "metadata": {},
   "outputs": [],
   "source": [
    "y_test = []\n",
    "for batch in test.as_numpy_iterator(): \n",
    "    X, y = batch\n",
    "    y_test.append(y)\n",
    "    yhat = model.predict(X)\n",
    "    pre.update_state(y, yhat)\n",
    "    re.update_state(y, yhat)\n",
    "    acc.update_state(y, yhat)\n",
    "y_test = [x  for sublist in y_test for x in sublist]"
   ]
  },
  {
   "cell_type": "code",
   "execution_count": null,
   "metadata": {},
   "outputs": [],
   "source": [
    "print(pre.result(), re.result(), acc.result())"
   ]
  },
  {
   "cell_type": "code",
   "execution_count": null,
   "metadata": {},
   "outputs": [],
   "source": [
    "from sklearn.metrics import confusion_matrix,ConfusionMatrixDisplay\n",
    "\n",
    "ConfusionMatrixDisplay.from_predictions(y_test, yhat)\n",
    "cm = metrics.confusion_matrix(y_test, yhat)\n",
    "disp = metrics.ConfusionMatrixDisplay(confusion_matrix=cm)\n",
    "\n",
    "disp.plot()\n"
   ]
  },
  {
   "cell_type": "markdown",
   "metadata": {},
   "source": [
    "# 10. Test"
   ]
  },
  {
   "cell_type": "code",
   "execution_count": null,
   "metadata": {},
   "outputs": [],
   "source": [
    "import cv2"
   ]
  },
  {
   "cell_type": "code",
   "execution_count": null,
   "metadata": {},
   "outputs": [],
   "source": [
    "# img = cv2.imread('selftest/boba.png')\n",
    "img = cv2.imread('selftest/guiltyboba3.png')\n",
    "img = cv2.imread('selftest/guiltyboba3.png')\n",
    "\n",
    "# img = cv2.imread('selftest/bobapuppyeye.jpeg')\n",
    "# img = cv2.imread('selftest/bobachill.jpeg')\n",
    "# img = cv2.imread('selftest/not.png') \n",
    "# img = cv2.imread('selftest/guilty.png') \n",
    "\n",
    "\n",
    "\n",
    "plt.imshow(img)\n",
    "plt.show()"
   ]
  },
  {
   "cell_type": "code",
   "execution_count": null,
   "metadata": {},
   "outputs": [],
   "source": [
    "resize = tf.image.resize(img, (256,256))\n",
    "plt.imshow(resize.numpy().astype(int))\n",
    "plt.show()"
   ]
  },
  {
   "cell_type": "code",
   "execution_count": null,
   "metadata": {},
   "outputs": [],
   "source": [
    "yhat = model.predict(np.expand_dims(resize/255, 0))"
   ]
  },
  {
   "cell_type": "code",
   "execution_count": null,
   "metadata": {},
   "outputs": [],
   "source": [
    "yhat"
   ]
  },
  {
   "cell_type": "code",
   "execution_count": null,
   "metadata": {},
   "outputs": [],
   "source": [
    "if yhat < 0.5: \n",
    "    print(f'Predicted class is Not Guilty')\n",
    "else:\n",
    "    print(f'Predicted class is Guilty')"
   ]
  },
  {
   "cell_type": "markdown",
   "metadata": {},
   "source": [
    "# 11. Save the Model"
   ]
  },
  {
   "cell_type": "code",
   "execution_count": null,
   "metadata": {},
   "outputs": [],
   "source": [
    "from tensorflow.keras.models import load_model"
   ]
  },
  {
   "cell_type": "code",
   "execution_count": null,
   "metadata": {},
   "outputs": [],
   "source": [
    "model.save(os.path.join('models','imageclassifier.h5'))"
   ]
  },
  {
   "cell_type": "code",
   "execution_count": null,
   "metadata": {},
   "outputs": [],
   "source": [
    "new_model = load_model('models/imageclassifier.h5')"
   ]
  },
  {
   "cell_type": "code",
   "execution_count": null,
   "metadata": {},
   "outputs": [],
   "source": [
    "new_model.predict(np.expand_dims(resize/255, 0))"
   ]
  }
 ],
 "metadata": {
  "kernelspec": {
   "display_name": "Python 3 (ipykernel)",
   "language": "python",
   "name": "python3"
  },
  "language_info": {
   "codemirror_mode": {
    "name": "ipython",
    "version": 3
   },
   "file_extension": ".py",
   "mimetype": "text/x-python",
   "name": "python",
   "nbconvert_exporter": "python",
   "pygments_lexer": "ipython3",
   "version": "3.9.18"
  }
 },
 "nbformat": 4,
 "nbformat_minor": 4
}
